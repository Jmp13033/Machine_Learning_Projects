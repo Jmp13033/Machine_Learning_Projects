{
 "cells": [
  {
   "cell_type": "markdown",
   "id": "b5137082",
   "metadata": {},
   "source": [
    "# Naive Bayes Classifiers :\n",
    "   - faster in training than Linear Model \n",
    "   - Provides worse Generalization than Linear Classifiers Like Logistic and Linear Regression \n",
    "   - efficiency by looking at each feature individually and collect simple per-class statistics from each feature\n",
    "   -  \n",
    "   \n",
    "   \n",
    "   \n",
    "  \n",
    "   - GaussianNB \n",
    "   \n",
    "   - can be applied to any continuous data\n",
    "   \n",
    "   \n",
    "   - BernoulliNB \n",
    "   - assumes binary data\n",
    "     \n",
    "     \n",
    "   - MultinomialNB\n",
    "   - (that is, that each feature represents an integer count of some‐ thing, like how often a word appears in a sentence).\n",
    "   \n",
    "   - the average value of each feature for each class\n",
    "     \n",
    "   \n",
    "   \n",
    "   - GaussianNB stores the average value as well as the standard deviation of each feature for each class\n",
    "   \n",
    "   \n",
    "   \n",
    "   \n",
    "   - BernoulliNB and MultinomialNB are mostly used in text data classification. Spam "
   ]
  },
  {
   "cell_type": "code",
   "execution_count": 3,
   "id": "22a37e84",
   "metadata": {},
   "outputs": [],
   "source": [
    "from sklearn.naive_bayes import MultinomialNB\n",
    "from sklearn.model_selection import train_test_split\n",
    "import pandas as pd \n",
    "import numpy as np \n",
    "\n",
    "\n"
   ]
  },
  {
   "cell_type": "code",
   "execution_count": null,
   "id": "fb22f021",
   "metadata": {},
   "outputs": [],
   "source": []
  }
 ],
 "metadata": {
  "kernelspec": {
   "display_name": "Python 3.8.9 64-bit",
   "language": "python",
   "name": "python3"
  },
  "language_info": {
   "codemirror_mode": {
    "name": "ipython",
    "version": 3
   },
   "file_extension": ".py",
   "mimetype": "text/x-python",
   "name": "python",
   "nbconvert_exporter": "python",
   "pygments_lexer": "ipython3",
   "version": "3.8.9"
  },
  "vscode": {
   "interpreter": {
    "hash": "31f2aee4e71d21fbe5cf8b01ff0e069b9275f58929596ceb00d14d90e3e16cd6"
   }
  }
 },
 "nbformat": 4,
 "nbformat_minor": 5
}
