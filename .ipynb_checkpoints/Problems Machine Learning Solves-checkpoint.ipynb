{
 "cells": [
  {
   "cell_type": "code",
   "execution_count": 61,
   "id": "de14b802",
   "metadata": {},
   "outputs": [],
   "source": [
    "import numpy as np\n",
    "import matplotlib.pyplot as plt\n",
    "import pandas as pd\n",
    "import mglearn\n",
    "%matplotlib inline"
   ]
  },
  {
   "cell_type": "markdown",
   "id": "b3f6998c",
   "metadata": {},
   "source": [
    "# problems ML is used for \n",
    "\n",
    "\n",
    "\n",
    "\n",
    "- Identifying the zip code from handwritten digits on an envelope\n",
    "- Determining whether a tumor is benign based on a medical image\n",
    "- Detecting fraudulent activity in credit card transactions"
   ]
  },
  {
   "cell_type": "markdown",
   "id": "a2cf9c36",
   "metadata": {},
   "source": [
    "# Unsupervised algorithms \n",
    "\n",
    " -  only the input data is known\n",
    " - Identifying topics in a set of blog posts\n",
    " - Segmenting customers into groups with similar preferences\n",
    " - Detecting abnormal access patterns to a website"
   ]
  },
  {
   "cell_type": "markdown",
   "id": "721f2c5f",
   "metadata": {},
   "source": [
    "- Each entity or row here is known as a sample \n",
    "- Each Column is a feature "
   ]
  },
  {
   "cell_type": "code",
   "execution_count": 55,
   "id": "b1da00ab",
   "metadata": {},
   "outputs": [],
   "source": [
    "import numpy as np "
   ]
  },
  {
   "cell_type": "code",
   "execution_count": null,
   "id": "d975f893",
   "metadata": {},
   "outputs": [],
   "source": []
  },
  {
   "cell_type": "code",
   "execution_count": null,
   "id": "71540b46",
   "metadata": {},
   "outputs": [],
   "source": []
  },
  {
   "cell_type": "code",
   "execution_count": null,
   "id": "fdd37074",
   "metadata": {},
   "outputs": [],
   "source": []
  }
 ],
 "metadata": {
  "kernelspec": {
   "display_name": "Python 3 (ipykernel)",
   "language": "python",
   "name": "python3"
  },
  "language_info": {
   "codemirror_mode": {
    "name": "ipython",
    "version": 3
   },
   "file_extension": ".py",
   "mimetype": "text/x-python",
   "name": "python",
   "nbconvert_exporter": "python",
   "pygments_lexer": "ipython3",
   "version": "3.9.12"
  }
 },
 "nbformat": 4,
 "nbformat_minor": 5
}
