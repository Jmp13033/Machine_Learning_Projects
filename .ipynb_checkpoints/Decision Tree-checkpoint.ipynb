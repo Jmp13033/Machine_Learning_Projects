{
 "cells": [
  {
   "cell_type": "markdown",
   "id": "cee06889",
   "metadata": {},
   "source": [
    "# Decision Tree\n",
    "- where the data is continuously split according to a certain parameter.\n",
    "- decision nodes and leaves \n",
    "- leaves are the decisions or final outcomes \n",
    "- nodes is where the data is split \n",
    "- decision nodes are the parameters, and the leaves are the outcomes \n",
    "\n",
    "- Classification trees (Yes/No types)\n",
    "- Regession Trees\n",
    "\n",
    "\n",
    "\n",
    "\n",
    "\n",
    "-  Shannon Entropy\n",
    "   - Randomness in the data \n",
    "\n",
    "\n",
    "\n",
    " - Kullback-Leibler divergence  \n",
    "- Information Gain - It measures the relative CHANGE in entropy with respect to the independent variables.\n"
   ]
  },
  {
   "cell_type": "code",
   "execution_count": 41,
   "id": "3dd0c5b7",
   "metadata": {},
   "outputs": [],
   "source": [
    "# gather the imports \n",
    "# load in the dataset \n",
    "# evaluate the data and see what we need to do \n",
    "# split the data \n",
    "# model\n",
    "# test\n"
   ]
  },
  {
   "cell_type": "code",
   "execution_count": 64,
   "id": "91b856d8",
   "metadata": {},
   "outputs": [],
   "source": [
    "import pandas as pd\n",
    "import numpy as np \n",
    "from sklearn.tree import DecisionTreeRegressor\n",
    "from sklearn.metrics import confusion_matrix"
   ]
  },
  {
   "cell_type": "code",
   "execution_count": 43,
   "id": "50d5dbb1",
   "metadata": {},
   "outputs": [],
   "source": [
    "df = pd.read_csv(\"titanic.csv\")"
   ]
  },
  {
   "cell_type": "code",
   "execution_count": 44,
   "id": "da0f2eb1",
   "metadata": {},
   "outputs": [
    {
     "data": {
      "text/plain": [
       "0    549\n",
       "1    342\n",
       "Name: Survived, dtype: int64"
      ]
     },
     "execution_count": 44,
     "metadata": {},
     "output_type": "execute_result"
    }
   ],
   "source": [
    "df[\"Survived\"].value_counts()"
   ]
  },
  {
   "cell_type": "code",
   "execution_count": 45,
   "id": "fe9c0a16",
   "metadata": {},
   "outputs": [
    {
     "data": {
      "text/plain": [
       "Index(['PassengerId', 'Survived', 'Pclass', 'Name', 'Sex', 'Age', 'SibSp',\n",
       "       'Parch', 'Ticket', 'Fare', 'Cabin', 'Embarked'],\n",
       "      dtype='object')"
      ]
     },
     "execution_count": 45,
     "metadata": {},
     "output_type": "execute_result"
    }
   ],
   "source": [
    "df.columns"
   ]
  },
  {
   "cell_type": "code",
   "execution_count": 46,
   "id": "5222c415",
   "metadata": {},
   "outputs": [],
   "source": [
    "columns_to_drop = ['PassengerId', 'Name', 'SibSp',\n",
    "       'Parch', 'Ticket', 'Cabin', 'Embarked']"
   ]
  },
  {
   "cell_type": "code",
   "execution_count": 47,
   "id": "f827dd21",
   "metadata": {},
   "outputs": [
    {
     "data": {
      "text/plain": [
       "0"
      ]
     },
     "execution_count": 47,
     "metadata": {},
     "output_type": "execute_result"
    }
   ],
   "source": [
    "titanic_X = df.drop(\"Survived\", axis = 1)\n",
    "titanic_y = df[\"Survived\"]\n",
    "\n",
    "titanic_y[0]\n",
    "\n",
    "\n",
    "\n",
    "\n"
   ]
  },
  {
   "cell_type": "code",
   "execution_count": 48,
   "id": "896f9e01",
   "metadata": {},
   "outputs": [],
   "source": [
    "# then we import labelEncoder and make an object\n",
    "#  create a new Column to change the values to [0-1]\n",
    "\n",
    "\n"
   ]
  },
  {
   "cell_type": "code",
   "execution_count": 49,
   "id": "6b75cae8",
   "metadata": {},
   "outputs": [],
   "source": [
    "from sklearn.preprocessing import LabelEncoder\n",
    "le_Sex = LabelEncoder()"
   ]
  },
  {
   "cell_type": "code",
   "execution_count": 50,
   "id": "ffe1f23a",
   "metadata": {},
   "outputs": [],
   "source": [
    "titanic_X[\"Sex_n\"] = le_Sex.fit_transform(titanic_X[\"Sex\"])"
   ]
  },
  {
   "cell_type": "code",
   "execution_count": 51,
   "id": "e257964b",
   "metadata": {},
   "outputs": [
    {
     "data": {
      "text/plain": [
       "Index(['PassengerId', 'Pclass', 'Name', 'Sex', 'Age', 'SibSp', 'Parch',\n",
       "       'Ticket', 'Fare', 'Cabin', 'Embarked', 'Sex_n'],\n",
       "      dtype='object')"
      ]
     },
     "execution_count": 51,
     "metadata": {},
     "output_type": "execute_result"
    }
   ],
   "source": [
    "titanic_X.columns"
   ]
  },
  {
   "cell_type": "code",
   "execution_count": 52,
   "id": "3e018128",
   "metadata": {},
   "outputs": [],
   "source": [
    "titanic_X = titanic_X.drop([\"Sex\"], axis = 1)\n"
   ]
  },
  {
   "cell_type": "code",
   "execution_count": null,
   "id": "69c3e591",
   "metadata": {
    "scrolled": true
   },
   "outputs": [],
   "source": [
    "\n"
   ]
  },
  {
   "cell_type": "code",
   "execution_count": null,
   "id": "aed09e3f",
   "metadata": {},
   "outputs": [],
   "source": []
  },
  {
   "cell_type": "code",
   "execution_count": null,
   "id": "c481610d",
   "metadata": {},
   "outputs": [],
   "source": [
    "\n",
    "\n"
   ]
  },
  {
   "cell_type": "code",
   "execution_count": 56,
   "id": "64921834",
   "metadata": {},
   "outputs": [],
   "source": [
    "# use the confusion matrix  and sns to visualize whats missed \n",
    "# use sns.heatmap()"
   ]
  },
  {
   "cell_type": "code",
   "execution_count": null,
   "id": "e801a4e5",
   "metadata": {},
   "outputs": [],
   "source": []
  },
  {
   "cell_type": "code",
   "execution_count": null,
   "id": "897fee67",
   "metadata": {},
   "outputs": [],
   "source": []
  },
  {
   "cell_type": "code",
   "execution_count": null,
   "id": "b0d45aeb",
   "metadata": {},
   "outputs": [],
   "source": []
  }
 ],
 "metadata": {
  "kernelspec": {
   "display_name": "Python 3 (ipykernel)",
   "language": "python",
   "name": "python3"
  },
  "language_info": {
   "codemirror_mode": {
    "name": "ipython",
    "version": 3
   },
   "file_extension": ".py",
   "mimetype": "text/x-python",
   "name": "python",
   "nbconvert_exporter": "python",
   "pygments_lexer": "ipython3",
   "version": "3.9.12"
  }
 },
 "nbformat": 4,
 "nbformat_minor": 5
}
