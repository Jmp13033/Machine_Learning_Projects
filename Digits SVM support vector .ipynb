{
 "cells": [
  {
   "cell_type": "code",
   "execution_count": 117,
   "id": "45453c54",
   "metadata": {},
   "outputs": [],
   "source": [
    "# gather the imports \n",
    "# load in the dataset \n",
    "# evaluate the data and see what we need to do \n",
    "# split the data \n",
    "# model\n",
    "# test\n"
   ]
  },
  {
   "cell_type": "code",
   "execution_count": 104,
   "id": "db610270",
   "metadata": {},
   "outputs": [],
   "source": [
    "from sklearn.model_selection import train_test_split\n",
    "import seaborn as sns\n",
    "from sklearn.datasets import load_digits\n",
    "from sklearn.svm import SVC\n",
    "import pandas as pd \n",
    "digits = load_digits()\n",
    "from sklearn.metrics import confusion_matrix\n",
    "import matplotlib.pyplot as plt"
   ]
  },
  {
   "cell_type": "code",
   "execution_count": 105,
   "id": "55807105",
   "metadata": {},
   "outputs": [],
   "source": [
    "df = pd.DataFrame(digits[\"data\"], columns= digits[\"feature_names\"])\n",
    "\n",
    "\n"
   ]
  },
  {
   "cell_type": "code",
   "execution_count": 106,
   "id": "8f94b0f1",
   "metadata": {},
   "outputs": [],
   "source": [
    "df[\"target\"] = digits[\"target\"]\n",
    "\n"
   ]
  },
  {
   "cell_type": "code",
   "execution_count": 107,
   "id": "1d5ab53d",
   "metadata": {},
   "outputs": [],
   "source": [
    "X = df.drop(\"target\", axis = 1)\n",
    "y = df[\"target\"]\n"
   ]
  },
  {
   "cell_type": "code",
   "execution_count": 108,
   "id": "bce7c29a",
   "metadata": {},
   "outputs": [],
   "source": [
    " X_train ,X_test , y_train, y_test = train_test_split(X, y, test_size=.2) "
   ]
  },
  {
   "cell_type": "code",
   "execution_count": 109,
   "id": "4e0f196a",
   "metadata": {},
   "outputs": [
    {
     "name": "stdout",
     "output_type": "stream",
     "text": [
      "(1437, 64)\n",
      "(360, 64)\n",
      "(1437,)\n",
      "(360,)\n"
     ]
    }
   ],
   "source": [
    "print(X_train.shape)\n",
    "print(X_test.shape)\n",
    "print(y_train.shape)\n",
    "print(y_test.shape)\n"
   ]
  },
  {
   "cell_type": "code",
   "execution_count": 110,
   "id": "523d69d4",
   "metadata": {},
   "outputs": [],
   "source": [
    "# fit the model and then predict the values"
   ]
  },
  {
   "cell_type": "code",
   "execution_count": 111,
   "id": "f615aaa5",
   "metadata": {},
   "outputs": [],
   "source": [
    "model = SVC( kernel=\"rbf\").fit(X_train, y_train)\n",
    "model1 = SVC( kernel=\"linear\").fit(X_train, y_train)\n"
   ]
  },
  {
   "cell_type": "code",
   "execution_count": 112,
   "id": "13f78aa0",
   "metadata": {},
   "outputs": [],
   "source": [
    "# model predictions "
   ]
  },
  {
   "cell_type": "code",
   "execution_count": 113,
   "id": "96a8ee13",
   "metadata": {},
   "outputs": [],
   "source": [
    "model_y_prediction = model.predict(X_test)"
   ]
  },
  {
   "cell_type": "code",
   "execution_count": 114,
   "id": "98a37479",
   "metadata": {},
   "outputs": [],
   "source": [
    "# model scores"
   ]
  },
  {
   "cell_type": "code",
   "execution_count": 115,
   "id": "5984c0fc",
   "metadata": {},
   "outputs": [
    {
     "name": "stdout",
     "output_type": "stream",
     "text": [
      "rbf\n",
      " Test Score : 0.998\n",
      " Test Score : 0.978\n",
      "\n",
      "\n",
      "Linear\n",
      " Test Score : 1.000\n",
      " Test Score : 0.961\n"
     ]
    }
   ],
   "source": [
    "print(\"rbf\")\n",
    "print(\" Test Score : {:.3f}\".format(model.score(X_train, y_train)))\n",
    "print(\" Test Score : {:.3f}\".format(model.score(X_test, y_test)))\n",
    "print(\"\\n\")\n",
    "print(\"Linear\")\n",
    "print(\" Test Score : {:.3f}\".format(model1.score(X_train, y_train)))\n",
    "print(\" Test Score : {:.3f}\".format(model1.score(X_test, y_test)))\n"
   ]
  },
  {
   "cell_type": "code",
   "execution_count": 116,
   "id": "355a4c53",
   "metadata": {},
   "outputs": [
    {
     "data": {
      "text/plain": [
       "Text(69.0, 0.5, 'Truth')"
      ]
     },
     "execution_count": 116,
     "metadata": {},
     "output_type": "execute_result"
    },
    {
     "data": {
      "image/png": "[encoded data removed]",
      "text/plain": [
       "<Figure size 720x720 with 2 Axes>"
      ]
     },
     "metadata": {
      "needs_background": "light"
     },
     "output_type": "display_data"
    }
   ],
   "source": [
    "cm = confusion_matrix(y_test, model_y_prediction)\n",
    "\n",
    "plt.figure(figsize=(10,10), )\n",
    "sns.heatmap(cm, annot= True, cmap=\"Reds\", annot_kws = {\"size\": 10})\n",
    "plt.title(\"Model Error\")\n",
    "plt.xlabel(\"Prediction\")\n",
    "plt.ylabel(\"Truth\")\n",
    "\n"
   ]
  },
  {
   "cell_type": "code",
   "execution_count": null,
   "id": "1e5d6e53",
   "metadata": {},
   "outputs": [],
   "source": []
  },
  {
   "cell_type": "code",
   "execution_count": null,
   "id": "a10d55e3",
   "metadata": {},
   "outputs": [],
   "source": []
  }
 ],
 "metadata": {
  "kernelspec": {
   "display_name": "Python 3 (ipykernel)",
   "language": "python",
   "name": "python3"
  },
  "language_info": {
   "codemirror_mode": {
    "name": "ipython",
    "version": 3
   },
   "file_extension": ".py",
   "mimetype": "text/x-python",
   "name": "python",
   "nbconvert_exporter": "python",
   "pygments_lexer": "ipython3",
   "version": "3.8.9"
  }
 },
 "nbformat": 4,
 "nbformat_minor": 5
}
