{
 "cells": [
  {
   "cell_type": "markdown",
   "id": "f224e157",
   "metadata": {},
   "source": [
    "square the Theta Parameters\n",
    "# Ridge Refularization  \n",
    "- L2 Regularization uses the Square Value \n",
    "- trying to limit theta parameters to decrease \n",
    "- MSE = E[(X−ˆX)2]=E[(X−g(Y))2]\n",
    "- bigger Alpha, Error will be bigger \n",
    "\n",
    " "
   ]
  },
  {
   "cell_type": "markdown",
   "id": "71c4f54b",
   "metadata": {},
   "source": [
    "# Lasso Regularization \n",
    "- Theta 0 and absolute value of it \n",
    "- used For Regularization whwn you have many features but only a limited amount actually work \n"
   ]
  },
  {
   "cell_type": "code",
   "execution_count": null,
   "id": "2a3934a7",
   "metadata": {},
   "outputs": [],
   "source": []
  }
 ],
 "metadata": {
  "kernelspec": {
   "display_name": "Python 3 (ipykernel)",
   "language": "python",
   "name": "python3"
  },
  "language_info": {
   "codemirror_mode": {
    "name": "ipython",
    "version": 3
   },
   "file_extension": ".py",
   "mimetype": "text/x-python",
   "name": "python",
   "nbconvert_exporter": "python",
   "pygments_lexer": "ipython3",
   "version": "3.9.12"
  }
 },
 "nbformat": 4,
 "nbformat_minor": 5
}
