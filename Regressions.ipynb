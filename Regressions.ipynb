{
 "cells": [
  {
   "cell_type": "markdown",
   "id": "af3ed8ba",
   "metadata": {},
   "source": [
    "# regularization :\n",
    "\n",
    "- eliminates the features that are less important \n",
    "- prevents overfitting on training data. \n",
    "- size of house probe : x1 - X2 - X3 \n",
    "- gets rid of X2 because its less useful"
   ]
  },
  {
   "cell_type": "markdown",
   "id": "299b11d2",
   "metadata": {},
   "source": [
    "# Ridge Regression \n",
    "- penalizes Theta value which is less important making it closer to 0; \n",
    "- reducing the overfitting value your test variables\n",
    "- L2 Norm\n",
    "- Alpha how strict to be on some feature"
   ]
  },
  {
   "cell_type": "code",
   "execution_count": 7,
   "id": "02992500",
   "metadata": {},
   "outputs": [],
   "source": [
    "from sklearn.linear_model import Ridge\n",
    "from sklearn.model_selection import train_test_split\n",
    "from sklearn.datasets import load_boston"
   ]
  },
  {
   "cell_type": "code",
   "execution_count": null,
   "id": "d6c20e11",
   "metadata": {},
   "outputs": [],
   "source": [
    "boston = load_boston()"
   ]
  },
  {
   "cell_type": "code",
   "execution_count": null,
   "id": "99611cfb",
   "metadata": {},
   "outputs": [],
   "source": []
  },
  {
   "cell_type": "code",
   "execution_count": null,
   "id": "4c66b43f",
   "metadata": {},
   "outputs": [],
   "source": []
  },
  {
   "cell_type": "code",
   "execution_count": null,
   "id": "eee26b89",
   "metadata": {},
   "outputs": [],
   "source": []
  },
  {
   "cell_type": "markdown",
   "id": "f0501247",
   "metadata": {},
   "source": [
    "# Lasso Regression \n",
    "- Theta value is taken directly to 0  \n",
    "- Lasso does quite badly, both on the training and the test set. This indicates underfitting,\n",
    "- A lower alpha allowed us to fit a more complex model"
   ]
  },
  {
   "cell_type": "code",
   "execution_count": null,
   "id": "94a5bd36",
   "metadata": {},
   "outputs": [],
   "source": [
    "import"
   ]
  }
 ],
 "metadata": {
  "kernelspec": {
   "display_name": "Python 3 (ipykernel)",
   "language": "python",
   "name": "python3"
  },
  "language_info": {
   "codemirror_mode": {
    "name": "ipython",
    "version": 3
   },
   "file_extension": ".py",
   "mimetype": "text/x-python",
   "name": "python",
   "nbconvert_exporter": "python",
   "pygments_lexer": "ipython3",
   "version": "3.9.12"
  }
 },
 "nbformat": 4,
 "nbformat_minor": 5
}
